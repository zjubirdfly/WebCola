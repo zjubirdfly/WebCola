{
  "nbformat": 4,
  "nbformat_minor": 0,
  "metadata": {
    "colab": {
      "name": "GeneratePicture.ipynb",
      "provenance": [],
      "collapsed_sections": [],
      "include_colab_link": true
    },
    "kernelspec": {
      "name": "python3",
      "display_name": "Python 3"
    }
  },
  "cells": [
    {
      "cell_type": "markdown",
      "metadata": {
        "id": "view-in-github",
        "colab_type": "text"
      },
      "source": [
        "<a href=\"https://colab.research.google.com/github/zjubirdfly/WebCola/blob/master/GeneratePicture.ipynb\" target=\"_parent\"><img src=\"https://colab.research.google.com/assets/colab-badge.svg\" alt=\"Open In Colab\"/></a>"
      ]
    },
    {
      "cell_type": "code",
      "metadata": {
        "id": "pKWEJ5pRzqac",
        "colab_type": "code",
        "outputId": "0c092bc9-489e-42e9-bb1f-979459f873d7",
        "colab": {
          "base_uri": "https://localhost:8080/",
          "height": 51
        }
      },
      "source": [
        "# Connect to google cloud and import data\n",
        "import uuid\n",
        "import pandas as pd\n",
        "import numpy as np\n",
        "import os\n",
        "import glob\n",
        "import shutil\n",
        "from google.colab import auth\n",
        "from google.colab import drive\n",
        "project_id = 'directed-symbol-252319'\n",
        "bucket_name = \"chongqingtaxidata\"\n",
        "raw_data_bucket_name = \"raw_taxi_data\"\n",
        "destination_path = \"/content/Taxidata/\"\n",
        "auth.authenticate_user()\n",
        "drive.mount('/content/drive')\n",
        "!gcloud config set project {project_id}"
      ],
      "execution_count": 3,
      "outputs": [
        {
          "output_type": "stream",
          "text": [
            "Drive already mounted at /content/drive; to attempt to forcibly remount, call drive.mount(\"/content/drive\", force_remount=True).\n",
            "Updated property [core/project].\n"
          ],
          "name": "stdout"
        }
      ]
    },
    {
      "cell_type": "code",
      "metadata": {
        "id": "0RHTtxQ619E2",
        "colab_type": "code",
        "colab": {}
      },
      "source": [
        "#Copy files into system\n",
        "!mkdir {destination_path}\n",
        "!gsutil -m cp -r gs://{raw_data_bucket_name}/201703/25 {destination_path}\n"
      ],
      "execution_count": 0,
      "outputs": []
    },
    {
      "cell_type": "code",
      "metadata": {
        "id": "HY2dhkQjU5Xy",
        "colab_type": "code",
        "colab": {}
      },
      "source": [
        "data_cols = ['date','time', 'label', 'tag','lat','lon','speed?','direction?','status', '?']\n",
        "files = glob.glob(\"/content/Taxidata/25/20170325_287.TXT\")\n",
        "\n",
        "all_date_data = []\n",
        "sample_data = []\n",
        "for file in files:\n",
        "    sample_data.append(pd.read_csv(file, sep=',',encoding='GB2312', names= data_cols, header=None,  dtype={'time': object}))\n",
        "\n",
        "all_date_data = pd.concat(sample_data, axis=0, ignore_index=True)"
      ],
      "execution_count": 0,
      "outputs": []
    },
    {
      "cell_type": "code",
      "metadata": {
        "id": "rNBwc6DYVVxE",
        "colab_type": "code",
        "colab": {}
      },
      "source": [
        "# Generate N*N graph\n",
        "N = 25\n",
        "\n",
        "max_lat = all_date_data['lat'].max()\n",
        "min_lat = all_date_data[all_date_data['lat'] > 1]['lat'].min()\n",
        "lat_range = (max_lat - min_lat) / N\n",
        "\n",
        "max_lon = all_date_data['lon'].max()\n",
        "min_lon = all_date_data[all_date_data['lon'] > 1]['lon'].min()\n",
        "lon_range = (max_lon - min_lon) / N\n",
        "\n",
        "print(lat_range, lon_range)\n",
        "\n",
        "graph = np.zeros((N,N))\n",
        "\n",
        "for index,row in all_date_data.iterrows(): \n",
        "  lat = row['lat']\n",
        "  lon = row['lon']\n",
        "  if lat == 0 and lon == 0:\n",
        "    continue\n",
        "  print(lat, lon)\n",
        "\n",
        "  #lat index\n",
        "  lat_index = 0;\n",
        "  if lat < min_lat:\n",
        "    lat_index = 0\n",
        "  elif lat > max_lat:\n",
        "    lat_index = N - 1\n",
        "  else:\n",
        "    lat_index = int((lat - min_lat) / lat_range)\n",
        "\n",
        "  #lon index\n",
        "  lon_index = 0;\n",
        "  if lon < min_lon:\n",
        "    lon_index = 0\n",
        "  elif lon > max_lon:\n",
        "    lon_index = N - 1\n",
        "  else:\n",
        "    lon_index = int((lon - min_lon) / lon_range)\n",
        "\n",
        "  print(lat_index, lon_index)\n",
        "  graph[lat_index, lon_index] = graph[lat_index, lon_index] + 1\n"
      ],
      "execution_count": 0,
      "outputs": []
    },
    {
      "cell_type": "code",
      "metadata": {
        "id": "FDl-8DCUjTMR",
        "colab_type": "code",
        "colab": {
          "base_uri": "https://localhost:8080/",
          "height": 68
        },
        "outputId": "40b9c7e2-7662-47c5-8b0e-8c22e1ca3765"
      },
      "source": [
        "max_lat = all_date_data['lat'].max()\n",
        "min_lat = all_date_data[all_date_data['lat'] > 1]['lat'].min()\n",
        "print(max_lat, min_lat)\n",
        "lat_range = (max_lat - min_lat) / N\n",
        "\n",
        "max_lon = all_date_data['lon'].max()\n",
        "min_lon = all_date_data[all_date_data['lon'] > 1]['lon'].min()\n",
        "print(max_lon, min_lon)\n",
        "lon_range = (max_lon - min_lon) / N\n",
        "\n",
        "print(lat_range, lon_range)"
      ],
      "execution_count": 11,
      "outputs": [
        {
          "output_type": "stream",
          "text": [
            "118.870628 1.477428\n",
            "68.859297 2.72581\n",
            "4.695728 2.64533948\n"
          ],
          "name": "stdout"
        }
      ]
    }
  ]
}