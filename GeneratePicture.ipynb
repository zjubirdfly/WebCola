{
  "nbformat": 4,
  "nbformat_minor": 0,
  "metadata": {
    "colab": {
      "name": "GeneratePicture.ipynb",
      "provenance": [],
      "collapsed_sections": [],
      "include_colab_link": true
    },
    "kernelspec": {
      "name": "python3",
      "display_name": "Python 3"
    }
  },
  "cells": [
    {
      "cell_type": "markdown",
      "metadata": {
        "id": "view-in-github",
        "colab_type": "text"
      },
      "source": [
        "<a href=\"https://colab.research.google.com/github/zjubirdfly/WebCola/blob/master/GeneratePicture.ipynb\" target=\"_parent\"><img src=\"https://colab.research.google.com/assets/colab-badge.svg\" alt=\"Open In Colab\"/></a>"
      ]
    },
    {
      "cell_type": "code",
      "metadata": {
        "id": "pKWEJ5pRzqac",
        "colab_type": "code",
        "outputId": "b79c9191-d39c-4104-e204-9d8963ee9e83",
        "colab": {
          "base_uri": "https://localhost:8080/",
          "height": 139
        }
      },
      "source": [
        "# Connect to google cloud and import data\n",
        "import uuid\n",
        "import pandas as pd\n",
        "import numpy as np\n",
        "import os\n",
        "import glob\n",
        "import shutil\n",
        "from google.colab import auth\n",
        "from google.colab import drive\n",
        "project_id = 'directed-symbol-252319'\n",
        "bucket_name = \"chongqingtaxidata\"\n",
        "raw_data_bucket_name = \"raw_taxi_data\"\n",
        "destination_path = \"/content/Taxidata/\"\n",
        "auth.authenticate_user()\n",
        "drive.mount('/content/drive')\n",
        "!gcloud config set project {project_id}"
      ],
      "execution_count": 0,
      "outputs": [
        {
          "output_type": "stream",
          "text": [
            "Go to this URL in a browser: https://accounts.google.com/o/oauth2/auth?client_id=947318989803-6bn6qk8qdgf4n4g3pfee6491hc0brc4i.apps.googleusercontent.com&redirect_uri=urn%3Aietf%3Awg%3Aoauth%3A2.0%3Aoob&scope=email%20https%3A%2F%2Fwww.googleapis.com%2Fauth%2Fdocs.test%20https%3A%2F%2Fwww.googleapis.com%2Fauth%2Fdrive%20https%3A%2F%2Fwww.googleapis.com%2Fauth%2Fdrive.photos.readonly%20https%3A%2F%2Fwww.googleapis.com%2Fauth%2Fpeopleapi.readonly&response_type=code\n",
            "\n",
            "Enter your authorization code:\n",
            "··········\n",
            "Mounted at /content/drive\n",
            "Updated property [core/project].\n"
          ],
          "name": "stdout"
        }
      ]
    },
    {
      "cell_type": "code",
      "metadata": {
        "id": "0RHTtxQ619E2",
        "colab_type": "code",
        "colab": {}
      },
      "source": [
        "#Copy files into system\n",
        "!mkdir {destination_path}\n",
        "!gsutil -m cp -r gs://{raw_data_bucket_name}/201703/25 {destination_path}\n"
      ],
      "execution_count": 0,
      "outputs": []
    },
    {
      "cell_type": "code",
      "metadata": {
        "id": "HY2dhkQjU5Xy",
        "colab_type": "code",
        "colab": {}
      },
      "source": [
        "data_cols = ['date','time', 'label', 'tag','lat','lon','speed?','direction?','status', '?']\n",
        "files = glob.glob(\"/content/Taxidata/25/20170325_041.TXT\")\n",
        "\n",
        "all_date_data = []\n",
        "sample_data = []\n",
        "for file in files:\n",
        "    sample_data.append(pd.read_csv(file, sep=',',encoding='GB2312', names= data_cols, header=None,  dtype={'time': object}))\n",
        "\n",
        "all_date_data = pd.concat(sample_data, axis=0, ignore_index=True)"
      ],
      "execution_count": 0,
      "outputs": []
    },
    {
      "cell_type": "code",
      "metadata": {
        "id": "rNBwc6DYVVxE",
        "colab_type": "code",
        "outputId": "c367a447-e745-48b9-d87f-76520b066dd2",
        "colab": {
          "base_uri": "https://localhost:8080/",
          "height": 1000
        }
      },
      "source": [
        "# Generate N*N graph\n",
        "N = 25\n",
        "\n",
        "max_lat = 106.753129\n",
        "min_lat = 106.273290\n",
        "lat_range = (max_lat - min_lat) / N\n",
        "\n",
        "max_lon = 29.878034\n",
        "min_lon = 29.360739\n",
        "lon_range = (max_lon - min_lon) / N\n",
        "\n",
        "graph = np.zeros((N,N))\n",
        "\n",
        "for index, row in all_date_data.iterrows(): \n",
        "  lat = row['lat']\n",
        "  lon = row['lon']\n",
        "  #lat index\n",
        "  lat_index = 0;\n",
        "  if lat < min_lat:\n",
        "    lat_index = 0\n",
        "  elif lat > max_lat:\n",
        "    lat_index = N - 1\n",
        "  else:\n",
        "    lat_index = int((lat - min_lat) / N)\n",
        "  lat_index = N - 1 - lat_index\n",
        "\n",
        "  #lon index\n",
        "  lon_index = 0;\n",
        "  if lon < min_lon:\n",
        "    lon_index = 0\n",
        "  elif lon > max_lon:\n",
        "    lon_index = N - 1\n",
        "  else:\n",
        "    lon_index = int((lon - min_lon) / N)\n",
        "\n",
        "  graph[lat_index, lon_index] = graph[lat_index, lon_index] + 1\n",
        "\n",
        "print(graph)"
      ],
      "execution_count": 23,
      "outputs": [
        {
          "output_type": "stream",
          "text": [
            "[[   782.      0.      0.      0.      0.      0.      0.      0.      0.\n",
            "       0.      0.      0.      0.      0.      0.      0.      0.      0.\n",
            "       0.      0.      0.      0.      0.      0.    474.]\n",
            " [     0.      0.      0.      0.      0.      0.      0.      0.      0.\n",
            "       0.      0.      0.      0.      0.      0.      0.      0.      0.\n",
            "       0.      0.      0.      0.      0.      0.      0.]\n",
            " [     0.      0.      0.      0.      0.      0.      0.      0.      0.\n",
            "       0.      0.      0.      0.      0.      0.      0.      0.      0.\n",
            "       0.      0.      0.      0.      0.      0.      0.]\n",
            " [     0.      0.      0.      0.      0.      0.      0.      0.      0.\n",
            "       0.      0.      0.      0.      0.      0.      0.      0.      0.\n",
            "       0.      0.      0.      0.      0.      0.      0.]\n",
            " [     0.      0.      0.      0.      0.      0.      0.      0.      0.\n",
            "       0.      0.      0.      0.      0.      0.      0.      0.      0.\n",
            "       0.      0.      0.      0.      0.      0.      0.]\n",
            " [     0.      0.      0.      0.      0.      0.      0.      0.      0.\n",
            "       0.      0.      0.      0.      0.      0.      0.      0.      0.\n",
            "       0.      0.      0.      0.      0.      0.      0.]\n",
            " [     0.      0.      0.      0.      0.      0.      0.      0.      0.\n",
            "       0.      0.      0.      0.      0.      0.      0.      0.      0.\n",
            "       0.      0.      0.      0.      0.      0.      0.]\n",
            " [     0.      0.      0.      0.      0.      0.      0.      0.      0.\n",
            "       0.      0.      0.      0.      0.      0.      0.      0.      0.\n",
            "       0.      0.      0.      0.      0.      0.      0.]\n",
            " [     0.      0.      0.      0.      0.      0.      0.      0.      0.\n",
            "       0.      0.      0.      0.      0.      0.      0.      0.      0.\n",
            "       0.      0.      0.      0.      0.      0.      0.]\n",
            " [     0.      0.      0.      0.      0.      0.      0.      0.      0.\n",
            "       0.      0.      0.      0.      0.      0.      0.      0.      0.\n",
            "       0.      0.      0.      0.      0.      0.      0.]\n",
            " [     0.      0.      0.      0.      0.      0.      0.      0.      0.\n",
            "       0.      0.      0.      0.      0.      0.      0.      0.      0.\n",
            "       0.      0.      0.      0.      0.      0.      0.]\n",
            " [     0.      0.      0.      0.      0.      0.      0.      0.      0.\n",
            "       0.      0.      0.      0.      0.      0.      0.      0.      0.\n",
            "       0.      0.      0.      0.      0.      0.      0.]\n",
            " [     0.      0.      0.      0.      0.      0.      0.      0.      0.\n",
            "       0.      0.      0.      0.      0.      0.      0.      0.      0.\n",
            "       0.      0.      0.      0.      0.      0.      0.]\n",
            " [     0.      0.      0.      0.      0.      0.      0.      0.      0.\n",
            "       0.      0.      0.      0.      0.      0.      0.      0.      0.\n",
            "       0.      0.      0.      0.      0.      0.      0.]\n",
            " [     0.      0.      0.      0.      0.      0.      0.      0.      0.\n",
            "       0.      0.      0.      0.      0.      0.      0.      0.      0.\n",
            "       0.      0.      0.      0.      0.      0.      0.]\n",
            " [     0.      0.      0.      0.      0.      0.      0.      0.      0.\n",
            "       0.      0.      0.      0.      0.      0.      0.      0.      0.\n",
            "       0.      0.      0.      0.      0.      0.      0.]\n",
            " [     0.      0.      0.      0.      0.      0.      0.      0.      0.\n",
            "       0.      0.      0.      0.      0.      0.      0.      0.      0.\n",
            "       0.      0.      0.      0.      0.      0.      0.]\n",
            " [     0.      0.      0.      0.      0.      0.      0.      0.      0.\n",
            "       0.      0.      0.      0.      0.      0.      0.      0.      0.\n",
            "       0.      0.      0.      0.      0.      0.      0.]\n",
            " [     0.      0.      0.      0.      0.      0.      0.      0.      0.\n",
            "       0.      0.      0.      0.      0.      0.      0.      0.      0.\n",
            "       0.      0.      0.      0.      0.      0.      0.]\n",
            " [     0.      0.      0.      0.      0.      0.      0.      0.      0.\n",
            "       0.      0.      0.      0.      0.      0.      0.      0.      0.\n",
            "       0.      0.      0.      0.      0.      0.      0.]\n",
            " [     0.      0.      0.      0.      0.      0.      0.      0.      0.\n",
            "       0.      0.      0.      0.      0.      0.      0.      0.      0.\n",
            "       0.      0.      0.      0.      0.      0.      0.]\n",
            " [     0.      0.      0.      0.      0.      0.      0.      0.      0.\n",
            "       0.      0.      0.      0.      0.      0.      0.      0.      0.\n",
            "       0.      0.      0.      0.      0.      0.      0.]\n",
            " [     0.      0.      0.      0.      0.      0.      0.      0.      0.\n",
            "       0.      0.      0.      0.      0.      0.      0.      0.      0.\n",
            "       0.      0.      0.      0.      0.      0.      0.]\n",
            " [     0.      0.      0.      0.      0.      0.      0.      0.      0.\n",
            "       0.      0.      0.      0.      0.      0.      0.      0.      0.\n",
            "       0.      0.      0.      0.      0.      0.      0.]\n",
            " [238181.      0.      0.      0.      0.      0.      0.      0.      0.\n",
            "       0.      0.      0.      0.      0.      0.      0.      0.      0.\n",
            "       0.      0.      0.      0.      0.      0.    432.]]\n"
          ],
          "name": "stdout"
        }
      ]
    },
    {
      "cell_type": "code",
      "metadata": {
        "id": "D8M-7bGlOTuU",
        "colab_type": "code",
        "colab": {}
      },
      "source": [
        "all_date_data"
      ],
      "execution_count": 0,
      "outputs": []
    }
  ]
}