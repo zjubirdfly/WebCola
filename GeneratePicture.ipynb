{
  "nbformat": 4,
  "nbformat_minor": 0,
  "metadata": {
    "colab": {
      "name": "GeneratePicture.ipynb",
      "provenance": [],
      "collapsed_sections": [],
      "include_colab_link": true
    },
    "kernelspec": {
      "name": "python3",
      "display_name": "Python 3"
    }
  },
  "cells": [
    {
      "cell_type": "markdown",
      "metadata": {
        "id": "view-in-github",
        "colab_type": "text"
      },
      "source": [
        "<a href=\"https://colab.research.google.com/github/zjubirdfly/WebCola/blob/master/GeneratePicture.ipynb\" target=\"_parent\"><img src=\"https://colab.research.google.com/assets/colab-badge.svg\" alt=\"Open In Colab\"/></a>"
      ]
    },
    {
      "cell_type": "code",
      "metadata": {
        "id": "pKWEJ5pRzqac",
        "colab_type": "code",
        "outputId": "b79c9191-d39c-4104-e204-9d8963ee9e83",
        "colab": {
          "base_uri": "https://localhost:8080/",
          "height": 139
        }
      },
      "source": [
        "# Connect to google cloud and import data\n",
        "import uuid\n",
        "import pandas as pd\n",
        "import numpy as np\n",
        "import os\n",
        "import glob\n",
        "import shutil\n",
        "from google.colab import auth\n",
        "from google.colab import drive\n",
        "project_id = 'directed-symbol-252319'\n",
        "bucket_name = \"chongqingtaxidata\"\n",
        "raw_data_bucket_name = \"raw_taxi_data\"\n",
        "destination_path = \"/content/Taxidata/\"\n",
        "auth.authenticate_user()\n",
        "drive.mount('/content/drive')\n",
        "!gcloud config set project {project_id}"
      ],
      "execution_count": 1,
      "outputs": [
        {
          "output_type": "stream",
          "text": [
            "Go to this URL in a browser: https://accounts.google.com/o/oauth2/auth?client_id=947318989803-6bn6qk8qdgf4n4g3pfee6491hc0brc4i.apps.googleusercontent.com&redirect_uri=urn%3Aietf%3Awg%3Aoauth%3A2.0%3Aoob&scope=email%20https%3A%2F%2Fwww.googleapis.com%2Fauth%2Fdocs.test%20https%3A%2F%2Fwww.googleapis.com%2Fauth%2Fdrive%20https%3A%2F%2Fwww.googleapis.com%2Fauth%2Fdrive.photos.readonly%20https%3A%2F%2Fwww.googleapis.com%2Fauth%2Fpeopleapi.readonly&response_type=code\n",
            "\n",
            "Enter your authorization code:\n",
            "··········\n",
            "Mounted at /content/drive\n",
            "Updated property [core/project].\n"
          ],
          "name": "stdout"
        }
      ]
    },
    {
      "cell_type": "code",
      "metadata": {
        "id": "0RHTtxQ619E2",
        "colab_type": "code",
        "colab": {
          "base_uri": "https://localhost:8080/",
          "height": 969
        },
        "outputId": "08c4207c-49eb-414e-dbbb-02c47908034e"
      },
      "source": [
        "#Copy files into system\n",
        "!mkdir {destination_path}\n",
        "!gsutil -m cp -r gs://{raw_data_bucket_name}/201703/25 {destination_path}\n"
      ],
      "execution_count": 2,
      "outputs": [
        {
          "output_type": "stream",
          "text": [
            "Copying gs://raw_taxi_data/201703/25/20170325_001.TXT...\n",
            "Copying gs://raw_taxi_data/201703/25/20170325_002.TXT...\n",
            "Copying gs://raw_taxi_data/201703/25/20170325_003.TXT...\n",
            "Copying gs://raw_taxi_data/201703/25/20170325_004.TXT...\n",
            "Copying gs://raw_taxi_data/201703/25/20170325_005.TXT...\n",
            "Copying gs://raw_taxi_data/201703/25/20170325_007.TXT...\n",
            "/ [0 files][    0.0 B/  1.5 GiB]                                                \r/ [0 files][    0.0 B/  1.5 GiB]                                                \r/ [0 files][    0.0 B/  1.5 GiB]                                                \r/ [0 files][    0.0 B/  1.5 GiB]                                                \r/ [0 files][    0.0 B/  1.5 GiB]                                                \r/ [0 files][    0.0 B/  1.5 GiB]                                                \rCopying gs://raw_taxi_data/201703/25/20170325_006.TXT...\n",
            "Copying gs://raw_taxi_data/201703/25/20170325_008.TXT...\n",
            "/ [0 files][    0.0 B/  1.5 GiB]                                                \r/ [0 files][    0.0 B/  1.5 GiB]                                                \rCopying gs://raw_taxi_data/201703/25/20170325_009.TXT...\n",
            "Copying gs://raw_taxi_data/201703/25/20170325_010.TXT...\n",
            "Copying gs://raw_taxi_data/201703/25/20170325_011.TXT...\n",
            "Copying gs://raw_taxi_data/201703/25/20170325_012.TXT...\n",
            "Copying gs://raw_taxi_data/201703/25/20170325_013.TXT...\n",
            "Copying gs://raw_taxi_data/201703/25/20170325_014.TXT...\n",
            "Copying gs://raw_taxi_data/201703/25/20170325_015.TXT...\n",
            "Copying gs://raw_taxi_data/201703/25/20170325_016.TXT...\n",
            "Copying gs://raw_taxi_data/201703/25/20170325_017.TXT...\n",
            "Copying gs://raw_taxi_data/201703/25/20170325_018.TXT...\n",
            "Copying gs://raw_taxi_data/201703/25/20170325_019.TXT...\n",
            "Copying gs://raw_taxi_data/201703/25/20170325_020.TXT...\n",
            "Copying gs://raw_taxi_data/201703/25/20170325_021.TXT...\n",
            "Copying gs://raw_taxi_data/201703/25/20170325_022.TXT...\n",
            "Copying gs://raw_taxi_data/201703/25/20170325_023.TXT...\n",
            "Copying gs://raw_taxi_data/201703/25/20170325_024.TXT...\n",
            "Copying gs://raw_taxi_data/201703/25/20170325_025.TXT...\n",
            "Copying gs://raw_taxi_data/201703/25/20170325_026.TXT...\n",
            "Copying gs://raw_taxi_data/201703/25/20170325_027.TXT...\n",
            "Copying gs://raw_taxi_data/201703/25/20170325_028.TXT...\n",
            "Copying gs://raw_taxi_data/201703/25/20170325_029.TXT...\n",
            "Copying gs://raw_taxi_data/201703/25/20170325_030.TXT...\n",
            "Copying gs://raw_taxi_data/201703/25/20170325_031.TXT...\n",
            "Copying gs://raw_taxi_data/201703/25/20170325_032.TXT...\n",
            "Copying gs://raw_taxi_data/201703/25/20170325_033.TXT...\n",
            "Copying gs://raw_taxi_data/201703/25/20170325_034.TXT...\n",
            "Copying gs://raw_taxi_data/201703/25/20170325_035.TXT...\n",
            "Copying gs://raw_taxi_data/201703/25/20170325_036.TXT...\n",
            "Copying gs://raw_taxi_data/201703/25/20170325_037.TXT...\n",
            "Copying gs://raw_taxi_data/201703/25/20170325_038.TXT...\n",
            "Copying gs://raw_taxi_data/201703/25/20170325_039.TXT...\n",
            "Copying gs://raw_taxi_data/201703/25/20170325_040.TXT...\n",
            "Copying gs://raw_taxi_data/201703/25/20170325_041.TXT...\n",
            "Copying gs://raw_taxi_data/201703/25/20170325_042.TXT...\n",
            "Copying gs://raw_taxi_data/201703/25/20170325_043.TXT...\n",
            "Copying gs://raw_taxi_data/201703/25/20170325_044.TXT...\n",
            "Copying gs://raw_taxi_data/201703/25/20170325_045.TXT...\n",
            "Copying gs://raw_taxi_data/201703/25/20170325_046.TXT...\n",
            "Copying gs://raw_taxi_data/201703/25/20170325_047.TXT...\n",
            "Copying gs://raw_taxi_data/201703/25/20170325_048.TXT...\n",
            "Copying gs://raw_taxi_data/201703/25/20170325_049.TXT...\n",
            "Copying gs://raw_taxi_data/201703/25/20170325_050.TXT...\n",
            "Copying gs://raw_taxi_data/201703/25/20170325_051.TXT...\n",
            "Copying gs://raw_taxi_data/201703/25/20170325_052.TXT...\n",
            "Copying gs://raw_taxi_data/201703/25/20170325_053.TXT...\n",
            "Exception in UIThread: \n",
            "Caught CTRL-C (signal 2) - exiting\n",
            "^C\n"
          ],
          "name": "stdout"
        }
      ]
    },
    {
      "cell_type": "code",
      "metadata": {
        "id": "HY2dhkQjU5Xy",
        "colab_type": "code",
        "colab": {}
      },
      "source": [
        "data_cols = ['date','time', 'label', 'tag','lat','lon','speed?','direction?','status', '?']\n",
        "files = glob.glob(\"/content/Taxidata/25/20170325_041.TXT\")\n",
        "\n",
        "all_date_data = []\n",
        "sample_data = []\n",
        "for file in files:\n",
        "    sample_data.append(pd.read_csv(file, sep=',',encoding='GB2312', names= data_cols, header=None,  dtype={'time': object}))\n",
        "\n",
        "all_date_data = pd.concat(sample_data, axis=0, ignore_index=True)"
      ],
      "execution_count": 0,
      "outputs": []
    },
    {
      "cell_type": "code",
      "metadata": {
        "id": "rNBwc6DYVVxE",
        "colab_type": "code",
        "colab": {
          "base_uri": "https://localhost:8080/",
          "height": 1000
        },
        "outputId": "1b8ce64e-0864-494d-a852-43bf12651e65"
      },
      "source": [
        "# Generate N*N graph\n",
        "N = 25\n",
        "\n",
        "max_lat = max(all_date_data['lat'])\n",
        "min_lat = min(all_date_data['lat'])\n",
        "lat_range = (max_lat - min_lat) / N\n",
        "\n",
        "max_lon = max(all_date_data['lon'])\n",
        "min_lon = min(all_date_data['lon'])\n",
        "lon_range = (max_lon - min_lon) / N\n",
        "\n",
        "graph = np.zeros((N,N))\n",
        "\n",
        "for index, row in all_date_data.iterrows(): \n",
        "  lat = row['lat']\n",
        "  lon = row['lon']\n",
        "  #lat index\n",
        "  lat_index = 0;\n",
        "  if lat < min_lat:\n",
        "    lat_index = 0\n",
        "  elif lat > max_lat:\n",
        "    lat_index = N - 1\n",
        "  else:\n",
        "    lat_index = int((lat - min_lat) / N)\n",
        "\n",
        "  #lon index\n",
        "  lon_index = 0;\n",
        "  if lon < min_lon:\n",
        "    lon_index = 0\n",
        "  elif lon > max_lon:\n",
        "    lon_index = N - 1\n",
        "  else:\n",
        "    lon_index = int((lon - min_lon) / N)\n",
        "\n",
        "  graph[lat_index, lon_index] = graph[lat_index, lon_index] + 1\n",
        "\n",
        "graph = (255 * graph/graph.mean()).astype(int)\n",
        "print(graph)"
      ],
      "execution_count": 15,
      "outputs": [
        {
          "output_type": "stream",
          "text": [
            "[[   140      0      0      0      0      0      0      0      0      0\n",
            "       0      0      0      0      0      0      0      0      0      0\n",
            "       0      0      0      0      0]\n",
            " [     0      0      0      0      0      0      0      0      0      0\n",
            "       0      0      0      0      0      0      0      0      0      0\n",
            "       0      0      0      0      0]\n",
            " [     0      0      0      0      0      0      0      0      0      0\n",
            "       0      0      0      0      0      0      0      0      0      0\n",
            "       0      0      0      0      0]\n",
            " [    13     13     13      0      0      0      0      0      0      0\n",
            "       0      0      0      0      0      0      0      0      0      0\n",
            "       0      0      0      0      0]\n",
            " [    39 159154      0      0      0      0      0      0      0      0\n",
            "       0      0      0      0      0      0      0      0      0      0\n",
            "       0      0      0      0      0]\n",
            " [     0      0      0      0      0      0      0      0      0      0\n",
            "       0      0      0      0      0      0      0      0      0      0\n",
            "       0      0      0      0      0]\n",
            " [     0      0      0      0      0      0      0      0      0      0\n",
            "       0      0      0      0      0      0      0      0      0      0\n",
            "       0      0      0      0      0]\n",
            " [     0      0      0      0      0      0      0      0      0      0\n",
            "       0      0      0      0      0      0      0      0      0      0\n",
            "       0      0      0      0      0]\n",
            " [     0      0      0      0      0      0      0      0      0      0\n",
            "       0      0      0      0      0      0      0      0      0      0\n",
            "       0      0      0      0      0]\n",
            " [     0      0      0      0      0      0      0      0      0      0\n",
            "       0      0      0      0      0      0      0      0      0      0\n",
            "       0      0      0      0      0]\n",
            " [     0      0      0      0      0      0      0      0      0      0\n",
            "       0      0      0      0      0      0      0      0      0      0\n",
            "       0      0      0      0      0]\n",
            " [     0      0      0      0      0      0      0      0      0      0\n",
            "       0      0      0      0      0      0      0      0      0      0\n",
            "       0      0      0      0      0]\n",
            " [     0      0      0      0      0      0      0      0      0      0\n",
            "       0      0      0      0      0      0      0      0      0      0\n",
            "       0      0      0      0      0]\n",
            " [     0      0      0      0      0      0      0      0      0      0\n",
            "       0      0      0      0      0      0      0      0      0      0\n",
            "       0      0      0      0      0]\n",
            " [     0      0      0      0      0      0      0      0      0      0\n",
            "       0      0      0      0      0      0      0      0      0      0\n",
            "       0      0      0      0      0]\n",
            " [     0      0      0      0      0      0      0      0      0      0\n",
            "       0      0      0      0      0      0      0      0      0      0\n",
            "       0      0      0      0      0]\n",
            " [     0      0      0      0      0      0      0      0      0      0\n",
            "       0      0      0      0      0      0      0      0      0      0\n",
            "       0      0      0      0      0]\n",
            " [     0      0      0      0      0      0      0      0      0      0\n",
            "       0      0      0      0      0      0      0      0      0      0\n",
            "       0      0      0      0      0]\n",
            " [     0      0      0      0      0      0      0      0      0      0\n",
            "       0      0      0      0      0      0      0      0      0      0\n",
            "       0      0      0      0      0]\n",
            " [     0      0      0      0      0      0      0      0      0      0\n",
            "       0      0      0      0      0      0      0      0      0      0\n",
            "       0      0      0      0      0]\n",
            " [     0      0      0      0      0      0      0      0      0      0\n",
            "       0      0      0      0      0      0      0      0      0      0\n",
            "       0      0      0      0      0]\n",
            " [     0      0      0      0      0      0      0      0      0      0\n",
            "       0      0      0      0      0      0      0      0      0      0\n",
            "       0      0      0      0      0]\n",
            " [     0      0      0      0      0      0      0      0      0      0\n",
            "       0      0      0      0      0      0      0      0      0      0\n",
            "       0      0      0      0      0]\n",
            " [     0      0      0      0      0      0      0      0      0      0\n",
            "       0      0      0      0      0      0      0      0      0      0\n",
            "       0      0      0      0      0]\n",
            " [     0      0      0      0      0      0      0      0      0      0\n",
            "       0      0      0      0      0      0      0      0      0      0\n",
            "       0      0      0      0      0]]\n"
          ],
          "name": "stdout"
        }
      ]
    }
  ]
}