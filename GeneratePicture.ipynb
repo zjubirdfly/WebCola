{
  "nbformat": 4,
  "nbformat_minor": 0,
  "metadata": {
    "colab": {
      "name": "GeneratePicture.ipynb",
      "provenance": [],
      "collapsed_sections": [],
      "include_colab_link": true
    },
    "kernelspec": {
      "name": "python3",
      "display_name": "Python 3"
    }
  },
  "cells": [
    {
      "cell_type": "markdown",
      "metadata": {
        "id": "view-in-github",
        "colab_type": "text"
      },
      "source": [
        "<a href=\"https://colab.research.google.com/github/zjubirdfly/WebCola/blob/master/GeneratePicture.ipynb\" target=\"_parent\"><img src=\"https://colab.research.google.com/assets/colab-badge.svg\" alt=\"Open In Colab\"/></a>"
      ]
    },
    {
      "cell_type": "code",
      "metadata": {
        "id": "pKWEJ5pRzqac",
        "colab_type": "code",
        "outputId": "84fd1dc4-55f9-4d67-8188-4dd72e6f5794",
        "colab": {
          "base_uri": "https://localhost:8080/",
          "height": 71
        }
      },
      "source": [
        "# Connect to google cloud and import data\n",
        "import uuid\n",
        "import pandas as pd\n",
        "import numpy as np\n",
        "import os\n",
        "import glob\n",
        "import shutil\n",
        "from google.colab import auth\n",
        "from google.colab import drive\n",
        "project_id = 'directed-symbol-252319'\n",
        "bucket_name = \"chongqingtaxidata\"\n",
        "raw_data_bucket_name = \"raw_taxi_data\"\n",
        "destination_path = \"/content/Taxidata/\"\n",
        "auth.authenticate_user()\n",
        "drive.mount('/content/drive')\n",
        "!gcloud config set project {project_id}"
      ],
      "execution_count": 3,
      "outputs": [
        {
          "output_type": "stream",
          "text": [
            "Drive already mounted at /content/drive; to attempt to forcibly remount, call drive.mount(\"/content/drive\", force_remount=True).\n",
            "Updated property [core/project].\n"
          ],
          "name": "stdout"
        }
      ]
    },
    {
      "cell_type": "code",
      "metadata": {
        "id": "0RHTtxQ619E2",
        "colab_type": "code",
        "colab": {}
      },
      "source": [
        "#Copy files into system\n",
        "!mkdir {destination_path}\n",
        "!gsutil -m cp -r gs://{raw_data_bucket_name}/201703/25 {destination_path}\n"
      ],
      "execution_count": 0,
      "outputs": []
    },
    {
      "cell_type": "code",
      "metadata": {
        "id": "HY2dhkQjU5Xy",
        "colab_type": "code",
        "colab": {}
      },
      "source": [
        "data_cols = ['date','time', 'label', 'tag','lat','lon','speed?','direction?','status', '?']\n",
        "files = glob.glob(\"/content/Taxidata/25/20170325_287.TXT\")\n",
        "\n",
        "all_date_data = []\n",
        "sample_data = []\n",
        "for file in files:\n",
        "    sample_data.append(pd.read_csv(file, sep=',',encoding='GB2312', names= data_cols, header=None,  dtype={'time': object}))\n",
        "\n",
        "all_date_data = pd.concat(sample_data, axis=0, ignore_index=True)"
      ],
      "execution_count": 0,
      "outputs": []
    },
    {
      "cell_type": "code",
      "metadata": {
        "id": "rNBwc6DYVVxE",
        "colab_type": "code",
        "colab": {
          "base_uri": "https://localhost:8080/",
          "height": 286
        },
        "outputId": "42a494db-4130-4120-9884-f42f675aec33"
      },
      "source": [
        "# Generate N*N graph\n",
        "N = 25\n",
        "\n",
        "max_lat = all_date_data['lat'].nonzero().max()\n",
        "max_lat\n",
        "min_lat = min(np.nonzero(all_date_data['lat']))\n",
        "lat_range = (max_lat - min_lat) / N\n",
        "\n",
        "max_lon = max(np.nonzero(all_date_data['lon']))\n",
        "min_lon = min(np.nonzero(all_date_data['lon']))\n",
        "lon_range = (max_lon - min_lon) / N\n",
        "\n",
        "graph = np.zeros((N,N))\n",
        "\n",
        "for index,row in all_date_data.iterrows(): \n",
        "  lat = row['lat']\n",
        "  lon = row['lon']\n",
        "  if lat == 0 and lon == 0:\n",
        "    continue\n",
        "  print(lat)\n",
        "  print(lon)\n",
        "\n",
        "  #lat index\n",
        "  lat_index = 0;\n",
        "  if lat < min_lat:\n",
        "    lat_index = 0\n",
        "  elif lat > max_lat:\n",
        "    lat_index = N - 1\n",
        "  else:\n",
        "    lat_index = int((lat - min_lat) / N)\n",
        "\n",
        "  #lon index\n",
        "  lon_index = 0;\n",
        "  if lon < min_lon:\n",
        "    lon_index = 0\n",
        "  elif lon > max_lon:\n",
        "    lon_index = N - 1\n",
        "  else:\n",
        "    lon_index = int((lon - min_lon) / N)\n",
        "\n",
        "  graph[lat_index, lon_index] = graph[lat_index, lon_index] + 1\n"
      ],
      "execution_count": 20,
      "outputs": [
        {
          "output_type": "stream",
          "text": [
            "/usr/local/lib/python3.6/dist-packages/ipykernel_launcher.py:3: FutureWarning: Series.nonzero() is deprecated and will be removed in a future version.Use Series.to_numpy().nonzero() instead\n",
            "  This is separate from the ipykernel package so we can avoid doing imports until\n"
          ],
          "name": "stderr"
        },
        {
          "output_type": "error",
          "ename": "AttributeError",
          "evalue": "ignored",
          "traceback": [
            "\u001b[0;31m---------------------------------------------------------------------------\u001b[0m",
            "\u001b[0;31mAttributeError\u001b[0m                            Traceback (most recent call last)",
            "\u001b[0;32m<ipython-input-20-fc5f5496148e>\u001b[0m in \u001b[0;36m<module>\u001b[0;34m()\u001b[0m\n\u001b[1;32m      1\u001b[0m \u001b[0mN\u001b[0m \u001b[0;34m=\u001b[0m \u001b[0;36m25\u001b[0m\u001b[0;34m\u001b[0m\u001b[0;34m\u001b[0m\u001b[0m\n\u001b[1;32m      2\u001b[0m \u001b[0;34m\u001b[0m\u001b[0m\n\u001b[0;32m----> 3\u001b[0;31m \u001b[0mmax_lat\u001b[0m \u001b[0;34m=\u001b[0m \u001b[0mall_date_data\u001b[0m\u001b[0;34m[\u001b[0m\u001b[0;34m'lat'\u001b[0m\u001b[0;34m]\u001b[0m\u001b[0;34m.\u001b[0m\u001b[0mnonzero\u001b[0m\u001b[0;34m(\u001b[0m\u001b[0;34m)\u001b[0m\u001b[0;34m.\u001b[0m\u001b[0mmax\u001b[0m\u001b[0;34m(\u001b[0m\u001b[0;34m)\u001b[0m\u001b[0;34m\u001b[0m\u001b[0;34m\u001b[0m\u001b[0m\n\u001b[0m\u001b[1;32m      4\u001b[0m \u001b[0mmax_lat\u001b[0m\u001b[0;34m\u001b[0m\u001b[0;34m\u001b[0m\u001b[0m\n\u001b[1;32m      5\u001b[0m \u001b[0mmin_lat\u001b[0m \u001b[0;34m=\u001b[0m \u001b[0mmin\u001b[0m\u001b[0;34m(\u001b[0m\u001b[0mnp\u001b[0m\u001b[0;34m.\u001b[0m\u001b[0mnonzero\u001b[0m\u001b[0;34m(\u001b[0m\u001b[0mall_date_data\u001b[0m\u001b[0;34m[\u001b[0m\u001b[0;34m'lat'\u001b[0m\u001b[0;34m]\u001b[0m\u001b[0;34m)\u001b[0m\u001b[0;34m)\u001b[0m\u001b[0;34m\u001b[0m\u001b[0;34m\u001b[0m\u001b[0m\n",
            "\u001b[0;31mAttributeError\u001b[0m: 'tuple' object has no attribute 'max'"
          ]
        }
      ]
    },
    {
      "cell_type": "code",
      "metadata": {
        "id": "QZ60_OLrax9A",
        "colab_type": "code",
        "colab": {
          "base_uri": "https://localhost:8080/",
          "height": 34
        },
        "outputId": "36c83bd2-1f38-48a3-b531-57c15ed74e66"
      },
      "source": [
        "min_lat"
      ],
      "execution_count": 19,
      "outputs": [
        {
          "output_type": "execute_result",
          "data": {
            "text/plain": [
              "array([     1,      3,      4, ..., 249969, 249970, 249971])"
            ]
          },
          "metadata": {
            "tags": []
          },
          "execution_count": 19
        }
      ]
    }
  ]
}