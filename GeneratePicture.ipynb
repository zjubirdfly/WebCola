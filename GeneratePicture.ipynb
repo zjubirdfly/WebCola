{
  "nbformat": 4,
  "nbformat_minor": 0,
  "metadata": {
    "colab": {
      "name": "GeneratePicture.ipynb",
      "provenance": [],
      "collapsed_sections": [],
      "include_colab_link": true
    },
    "kernelspec": {
      "name": "python3",
      "display_name": "Python 3"
    }
  },
  "cells": [
    {
      "cell_type": "markdown",
      "metadata": {
        "id": "view-in-github",
        "colab_type": "text"
      },
      "source": [
        "<a href=\"https://colab.research.google.com/github/zjubirdfly/WebCola/blob/master/GeneratePicture.ipynb\" target=\"_parent\"><img src=\"https://colab.research.google.com/assets/colab-badge.svg\" alt=\"Open In Colab\"/></a>"
      ]
    },
    {
      "cell_type": "code",
      "metadata": {
        "id": "pKWEJ5pRzqac",
        "colab_type": "code",
        "outputId": "37e891d7-5110-4a03-99ab-31f17e5887ba",
        "colab": {
          "base_uri": "https://localhost:8080/",
          "height": 139
        }
      },
      "source": [
        "# Connect to google cloud and import data\n",
        "import uuid\n",
        "import pandas as pd\n",
        "import numpy as np\n",
        "import os\n",
        "import glob\n",
        "import shutil\n",
        "from google.colab import auth\n",
        "from google.colab import drive\n",
        "project_id = 'directed-symbol-252319'\n",
        "bucket_name = \"chongqingtaxidata\"\n",
        "raw_data_bucket_name = \"raw_taxi_data\"\n",
        "destination_path = \"/content/Taxidata/\"\n",
        "auth.authenticate_user()\n",
        "drive.mount('/content/drive')\n",
        "!gcloud config set project {project_id}"
      ],
      "execution_count": 2,
      "outputs": [
        {
          "output_type": "stream",
          "text": [
            "Go to this URL in a browser: https://accounts.google.com/o/oauth2/auth?client_id=947318989803-6bn6qk8qdgf4n4g3pfee6491hc0brc4i.apps.googleusercontent.com&redirect_uri=urn%3Aietf%3Awg%3Aoauth%3A2.0%3Aoob&scope=email%20https%3A%2F%2Fwww.googleapis.com%2Fauth%2Fdocs.test%20https%3A%2F%2Fwww.googleapis.com%2Fauth%2Fdrive%20https%3A%2F%2Fwww.googleapis.com%2Fauth%2Fdrive.photos.readonly%20https%3A%2F%2Fwww.googleapis.com%2Fauth%2Fpeopleapi.readonly&response_type=code\n",
            "\n",
            "Enter your authorization code:\n",
            "··········\n",
            "Mounted at /content/drive\n",
            "Updated property [core/project].\n"
          ],
          "name": "stdout"
        }
      ]
    },
    {
      "cell_type": "code",
      "metadata": {
        "id": "0RHTtxQ619E2",
        "colab_type": "code",
        "colab": {}
      },
      "source": [
        "#Copy files into system\n",
        "!mkdir {destination_path}\n",
        "!gsutil -m cp -r gs://{raw_data_bucket_name}/201703/25 {destination_path}\n"
      ],
      "execution_count": 0,
      "outputs": []
    },
    {
      "cell_type": "code",
      "metadata": {
        "id": "HY2dhkQjU5Xy",
        "colab_type": "code",
        "colab": {}
      },
      "source": [
        "data_cols = ['date','time', 'label', 'tag','lat','lon','speed?','direction?','status', '?']\n",
        "files = glob.glob(\"/content/Taxidata/25/*.TXT\")\n",
        "\n",
        "all_date_data = []\n",
        "sample_data = []\n",
        "for file in files:\n",
        "    sample_data.append(pd.read_csv(file, sep=',',encoding='GB2312', names= data_cols, header=None,  dtype={'time': object}))\n",
        "\n",
        "all_date_data = pd.concat(sample_data, axis=0, ignore_index=True)"
      ],
      "execution_count": 0,
      "outputs": []
    },
    {
      "cell_type": "code",
      "metadata": {
        "id": "rNBwc6DYVVxE",
        "colab_type": "code",
        "colab": {}
      },
      "source": [
        "# Generate N*N graph\n",
        "N = 25\n",
        "\n",
        "max_lat = max(all_date_data['lat'])\n",
        "min_lat = min(all_date_data['lat'])\n",
        "lat_range = (max_lat - min_lat) / N\n",
        "\n",
        "max_lon = max(all_date_data['lon'])\n",
        "min_lon = min(all_date_data['lon'])\n",
        "lon_range = (max_lon - min_lon) / N\n",
        "\n",
        "graph = np.zeros((N,N))\n",
        "\n",
        "for index, row in all_date_data.iterrows(): "
      ],
      "execution_count": 0,
      "outputs": []
    }
  ]
}